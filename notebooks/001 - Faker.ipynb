{
 "cells": [
  {
   "cell_type": "code",
   "execution_count": 88,
   "id": "6ea26184-bdf2-48f8-9b58-fe6746066ffa",
   "metadata": {},
   "outputs": [
    {
     "name": "stdout",
     "output_type": "stream",
     "text": [
      "{'author': 'Anthony Haney',\n",
      " 'content': ['Left responsibility population until face alone see. Wide '\n",
      "             'movement cover program should article baby. Walk late by society '\n",
      "             'ten individual. Table will few now. Along forget general. Where '\n",
      "             'late certainly war Congress PM feel. Arrive back human effect. '\n",
      "             'Address along form write nearly east company. Dinner act create '\n",
      "             'decade report really. Perform rise quite scene. Pass probably '\n",
      "             'where name range. Account receive protect nearly side sport '\n",
      "             'least anyone. Approach arm them full. Bank campaign executive '\n",
      "             'road. Worry to where view majority simple space. Our yourself do '\n",
      "             'series close. Method writer message. Strategy something support '\n",
      "             'candidate hair. Fire during real various perform either buy. '\n",
      "             'Style second modern other either.',\n",
      "             'Million sometimes realize growth hair ago ask. They participant '\n",
      "             'line trip. Simply onto cost be dream. Evidence design nearly '\n",
      "             'term glass. Part west whom. Than month article remember job. Ok '\n",
      "             'much when shake. Ground entire near choice. Onto already image '\n",
      "             'kid these feel station.',\n",
      "             'Total develop rich send PM boy. Without recent figure. Bill or '\n",
      "             'discuss fall building buy. Though expert safe suffer. College '\n",
      "             'artist college easy executive wind. Take also ready. Message '\n",
      "             'voice away listen learn firm. Anyone study heavy seat keep. '\n",
      "             'Space focus image ever home beyond who. Fine control car '\n",
      "             'everyone poor fast suffer spend.'],\n",
      " 'intro': 'Strategy leave soldier write learn. Lawyer heavy great. Scene truth '\n",
      "          'indeed present next break standard. Not herself our dog eat firm. '\n",
      "          'Kitchen you street moment director would. Knowledge report gas '\n",
      "          'around politics it second. Resource near a total.',\n",
      " 'title': 'Current Piece Hit Finish Network Future'}\n"
     ]
    }
   ],
   "source": [
    "\"\"\"Using the faker pkg to generate fake blog content\"\"\"\n",
    "\n",
    "import random\n",
    "import re\n",
    "from pprint import pprint\n",
    "\n",
    "from faker import Faker\n",
    "\n",
    "RE_SPACE = re.compile(r\"\\s+\")\n",
    "\n",
    "fake = Faker()\n",
    "\n",
    "\n",
    "def paragraph(chars=None):\n",
    "    if not chars:\n",
    "        chars = random.choice(range(50, 801))\n",
    "    graph = fake.text(max_nb_chars=chars)\n",
    "    graph = RE_SPACE.sub(\" \", graph)\n",
    "    return graph\n",
    "\n",
    "def content():\n",
    "    paragraphs = random.choice(range(3, 7))\n",
    "    graphs = [paragraph() for _ in range(paragraphs)]\n",
    "    return graphs\n",
    "\n",
    "def markup(list_):\n",
    "    graphs = \"</p>\\n\\n<p>\".join(list_)\n",
    "    return f\"<p>{graphs}</p>\"\n",
    "\n",
    "def title():\n",
    "    words = random.choice(range(3, 10))\n",
    "    title = fake.sentence(nb_words=words)\n",
    "    if title.endswith(\".\"):\n",
    "        title = title[:-1]\n",
    "    return title.title()\n",
    "\n",
    "def author():\n",
    "    return fake.name()\n",
    "\n",
    "def post():\n",
    "    post_data = {\n",
    "        \"title\": title(),\n",
    "        \"intro\": paragraph(280),\n",
    "        \"author\": author(),\n",
    "        \"content\": content(),\n",
    "    }\n",
    "    return post_data\n",
    "\n",
    "pprint(post())"
   ]
  },
  {
   "cell_type": "code",
   "execution_count": null,
   "id": "4fa42bc5-6543-46f1-bf22-684cfabea6e5",
   "metadata": {},
   "outputs": [],
   "source": []
  },
  {
   "cell_type": "code",
   "execution_count": null,
   "id": "379001d7-a686-490e-90d8-0809c3f1a059",
   "metadata": {},
   "outputs": [],
   "source": []
  },
  {
   "cell_type": "code",
   "execution_count": null,
   "id": "8070c10b-9c25-4351-9cbf-3a19e971c9fe",
   "metadata": {},
   "outputs": [],
   "source": []
  },
  {
   "cell_type": "code",
   "execution_count": null,
   "id": "61ada089-dce6-4d52-a6be-089865299235",
   "metadata": {},
   "outputs": [],
   "source": []
  }
 ],
 "metadata": {
  "kernelspec": {
   "display_name": "Python 3 (ipykernel)",
   "language": "python",
   "name": "python3"
  },
  "language_info": {
   "codemirror_mode": {
    "name": "ipython",
    "version": 3
   },
   "file_extension": ".py",
   "mimetype": "text/x-python",
   "name": "python",
   "nbconvert_exporter": "python",
   "pygments_lexer": "ipython3",
   "version": "3.11.4"
  }
 },
 "nbformat": 4,
 "nbformat_minor": 5
}
