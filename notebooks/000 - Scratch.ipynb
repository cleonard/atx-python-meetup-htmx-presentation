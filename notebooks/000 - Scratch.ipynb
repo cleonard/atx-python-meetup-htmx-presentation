{
 "cells": [
  {
   "cell_type": "code",
   "execution_count": 7,
   "id": "ff36c96c-b53b-4c55-a1fa-32b1b9367067",
   "metadata": {},
   "outputs": [
    {
     "data": {
      "text/plain": [
       "datetime.datetime(2023, 11, 8, 15, 9, 51, 678025)"
      ]
     },
     "execution_count": 7,
     "metadata": {},
     "output_type": "execute_result"
    }
   ],
   "source": [
    "from datetime import datetime\n",
    "\n",
    "dt = datetime.now()\n",
    "dt"
   ]
  },
  {
   "cell_type": "code",
   "execution_count": 13,
   "id": "def1ccfb-7219-4104-9df3-25a39aac46c7",
   "metadata": {},
   "outputs": [
    {
     "data": {
      "text/plain": [
       "'8 Nov'"
      ]
     },
     "execution_count": 13,
     "metadata": {},
     "output_type": "execute_result"
    }
   ],
   "source": [
    "dt.strftime(\"%e %b\").strip()"
   ]
  },
  {
   "cell_type": "code",
   "execution_count": null,
   "id": "e2bfdd45-4e3e-475f-a30d-6fbb20a9e4e9",
   "metadata": {},
   "outputs": [],
   "source": []
  }
 ],
 "metadata": {
  "kernelspec": {
   "display_name": "Python 3 (ipykernel)",
   "language": "python",
   "name": "python3"
  },
  "language_info": {
   "codemirror_mode": {
    "name": "ipython",
    "version": 3
   },
   "file_extension": ".py",
   "mimetype": "text/x-python",
   "name": "python",
   "nbconvert_exporter": "python",
   "pygments_lexer": "ipython3",
   "version": "3.11.4"
  }
 },
 "nbformat": 4,
 "nbformat_minor": 5
}
